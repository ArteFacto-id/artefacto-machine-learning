{
 "cells": [
  {
   "cell_type": "code",
   "execution_count": 2,
   "metadata": {
    "colab": {
     "base_uri": "https://localhost:8080/"
    },
    "executionInfo": {
     "elapsed": 21509,
     "status": "ok",
     "timestamp": 1731759014253,
     "user": {
      "displayName": "I Gusti Made Wardita Winaya",
      "userId": "10298486317155517552"
     },
     "user_tz": -420
    },
    "id": "XrY_-NPYai8i",
    "outputId": "b38f2c34-0644-4760-bfac-96d49528e8da"
   },
   "outputs": [],
   "source": [
    "import os\n",
    "import cv2\n",
    "import shutil\n",
    "import random\n",
    "import numpy as np\n",
    "import matplotlib.pyplot as plt\n",
    "import tensorflow as tf\n",
    "from tensorflow import keras\n",
    "from tensorflow.keras import layers\n",
    "from tensorflow.keras.callbacks import EarlyStopping\n",
    "from sklearn.model_selection import train_test_split\n",
    "from skimage.util import random_noise\n",
    "from PIL import Image\n",
    "from albumentations import Compose, HorizontalFlip, Rotate, GaussianBlur, RandomBrightnessContrast, GaussNoise\n",
    "from albumentations.core.composition import OneOf"
   ]
  },
  {
   "cell_type": "code",
   "execution_count": 6,
   "metadata": {
    "colab": {
     "base_uri": "https://localhost:8080/"
    },
    "executionInfo": {
     "elapsed": 34721,
     "status": "ok",
     "timestamp": 1731759118575,
     "user": {
      "displayName": "I Gusti Made Wardita Winaya",
      "userId": "10298486317155517552"
     },
     "user_tz": -420
    },
    "id": "Xsgr9u0uayPj",
    "outputId": "87b9520f-18c7-4441-8255-75bc5f3e37cb"
   },
   "outputs": [],
   "source": [
    "dataset_path = 'C:/Users/Lenovo/capstone/split_dataset'\n",
    "files = os.listdir(dataset_path)"
   ]
  },
  {
   "cell_type": "code",
   "execution_count": 42,
   "metadata": {
    "colab": {
     "base_uri": "https://localhost:8080/",
     "height": 35
    },
    "executionInfo": {
     "elapsed": 370,
     "status": "ok",
     "timestamp": 1731672111566,
     "user": {
      "displayName": "I Gusti Made Wardita Winaya",
      "userId": "10298486317155517552"
     },
     "user_tz": -420
    },
    "id": "8a1rhL6pgI1E",
    "outputId": "774b0263-5eee-40a6-be19-e0f7d4c5648f"
   },
   "outputs": [],
   "source": [
    "# import tensorflow as tf\n",
    "# tf.test.gpu_device_name()"
   ]
  },
  {
   "cell_type": "code",
   "execution_count": 44,
   "metadata": {
    "colab": {
     "base_uri": "https://localhost:8080/"
    },
    "executionInfo": {
     "elapsed": 409,
     "status": "ok",
     "timestamp": 1731672154431,
     "user": {
      "displayName": "I Gusti Made Wardita Winaya",
      "userId": "10298486317155517552"
     },
     "user_tz": -420
    },
    "id": "kGqe_wfSq9MF",
    "outputId": "b5ae31c3-031e-4fa5-a38d-193ca342eb19"
   },
   "outputs": [],
   "source": [
    "# print(\"Num GPUs Available: \", len(tf.config.list_physical_devices('GPU')))"
   ]
  },
  {
   "cell_type": "code",
   "execution_count": 46,
   "metadata": {
    "id": "7C6h_v_6d8HJ"
   },
   "outputs": [],
   "source": [
    "# dataset_path = '/content/drive/MyDrive/dataset'"
   ]
  },
  {
   "cell_type": "code",
   "execution_count": 48,
   "metadata": {
    "id": "JmepZ8YKC3KN"
   },
   "outputs": [],
   "source": [
    "# def delete_augmented_images(input_dir, prefix=\"aug\"):\n",
    "#     for class_name in os.listdir(input_dir):\n",
    "#         class_path = os.path.join(input_dir, class_name)\n",
    "#         if os.path.isdir(class_path):\n",
    "#             for file_name in os.listdir(class_path):\n",
    "#                 if file_name.startswith(prefix):\n",
    "#                     file_path = os.path.join(class_path, file_name)\n",
    "#                     try:\n",
    "#                         os.remove(file_path)\n",
    "#                         print(f\"Deleted augmented image: {file_path}\")\n",
    "#                     except Exception as e:\n",
    "#                         print(f\"Error deleting file {file_path}: {e}\")"
   ]
  },
  {
   "cell_type": "code",
   "execution_count": 50,
   "metadata": {
    "colab": {
     "base_uri": "https://localhost:8080/"
    },
    "executionInfo": {
     "elapsed": 3829,
     "status": "ok",
     "timestamp": 1731672169086,
     "user": {
      "displayName": "I Gusti Made Wardita Winaya",
      "userId": "10298486317155517552"
     },
     "user_tz": -420
    },
    "id": "4vUB8OEAE0FL",
    "outputId": "3ed56b2b-ec0c-4a21-d6a0-f72b8ef2ff81"
   },
   "outputs": [],
   "source": [
    "# delete_augmented_images(dataset_path)"
   ]
  },
  {
   "cell_type": "code",
   "execution_count": 52,
   "metadata": {
    "id": "iBetelZZM50n"
   },
   "outputs": [],
   "source": [
    "# def apply_motion_blur(image, kernel_size=5):\n",
    "#     kernel = np.zeros((kernel_size, kernel_size))\n",
    "#     kernel[int((kernel_size - 1) / 2), :] = np.ones(kernel_size)\n",
    "#     kernel = kernel / kernel_size\n",
    "#     return cv2.filter2D(image, -1, kernel)\n",
    "\n",
    "# def add_gaussian_noise(image):\n",
    "#     mean = 0\n",
    "#     variance = 0.001\n",
    "#     stddev = np.sqrt(variance)\n",
    "\n",
    "#     # Menghasilkan Gaussian noise\n",
    "#     gaussian_noise = np.random.normal(mean, stddev, image.shape).astype(np.float32)\n",
    "\n",
    "#     # Menambahkan noise pada gambar asli\n",
    "#     noisy_image = image.astype(np.float32) / 255.0 + gaussian_noise\n",
    "#     noisy_image = np.clip(noisy_image, 0, 1.0)  # Rentang nilai 0-1\n",
    "#     noisy_image = (noisy_image * 255).astype(np.uint8)  # Konversi ke rentang 0-255 dan tipe uint8\n",
    "\n",
    "#     return noisy_image\n"
   ]
  },
  {
   "cell_type": "code",
   "execution_count": 54,
   "metadata": {
    "id": "AL6CMbuv6Kw3"
   },
   "outputs": [],
   "source": [
    "# def augment_images(input_dir, min_images=600, target_size=(224, 224)):\n",
    "#     datagen = keras.preprocessing.image.ImageDataGenerator(\n",
    "#         rotation_range=10,\n",
    "#         width_shift_range=0.2,\n",
    "#         height_shift_range=0.2,\n",
    "#         shear_range=0.2,\n",
    "#         zoom_range=0.2,\n",
    "#         horizontal_flip=True,\n",
    "#         fill_mode='nearest'\n",
    "#     )\n",
    "\n",
    "#     for class_name in os.listdir(input_dir):\n",
    "#         class_path = os.path.join(input_dir, class_name)\n",
    "#         if os.path.isdir(class_path):\n",
    "#             images = os.listdir(class_path)\n",
    "#             num_images = len(images)\n",
    "#             if num_images < min_images:\n",
    "#                 num_to_generate = min_images - num_images\n",
    "#                 print(f\"Augmenting {num_to_generate} images for class {class_name}\")\n",
    "\n",
    "#                 for i in range(num_to_generate):\n",
    "#                     img_name = images[i % num_images]\n",
    "#                     img_path = os.path.join(class_path, img_name)\n",
    "#                     try:\n",
    "#                         img = cv2.imread(img_path)\n",
    "#                         if img is None:\n",
    "#                             print(f\"Failed to load image: {img_path}\")\n",
    "#                             continue\n",
    "\n",
    "#                         img = cv2.resize(img, target_size)\n",
    "\n",
    "#                         # Efek augmentasi tambahan secara acak\n",
    "#                         if random.choice([True, False]):\n",
    "#                             img = apply_motion_blur(img)\n",
    "#                         if random.choice([True, False]):\n",
    "#                             img = add_gaussian_noise(img)\n",
    "\n",
    "#                         x = keras.preprocessing.image.img_to_array(img)\n",
    "#                         x = x.reshape((1,) + x.shape)\n",
    "\n",
    "#                         for batch in datagen.flow(x, batch_size=1, save_to_dir=class_path, save_prefix='aug', save_format='jpg'):\n",
    "#                             break\n",
    "#                     except Exception as e:\n",
    "#                         print(f\"Error augmenting image {img_path}: {e}\")\n",
    "\n"
   ]
  },
  {
   "cell_type": "code",
   "execution_count": null,
   "metadata": {
    "colab": {
     "base_uri": "https://localhost:8080/"
    },
    "executionInfo": {
     "elapsed": 318745,
     "status": "ok",
     "timestamp": 1731672685437,
     "user": {
      "displayName": "I Gusti Made Wardita Winaya",
      "userId": "10298486317155517552"
     },
     "user_tz": -420
    },
    "id": "j2XqXhb86iWb",
    "outputId": "1356b953-8b5f-4179-a1a8-fdb7e5fc1488"
   },
   "outputs": [
    {
     "name": "stdout",
     "output_type": "stream",
     "text": [
      "Augmenting 315 images for class durga\n",
      "Augmenting 450 images for class gupolo\n",
      "Augmenting 244 images for class nandhi\n",
      "Augmenting 196 images for class surya\n",
      "Augmenting 191 images for class candra\n"
     ]
    }
   ],
   "source": [
    "# augment_images(dataset_path)"
   ]
  },
  {
   "cell_type": "code",
   "execution_count": null,
   "metadata": {
    "id": "-ckJiIyZeZYC"
   },
   "outputs": [],
   "source": [
    "# def resize_images(input_dir, output_dir, target_size=(224, 224)):\n",
    "#     if not os.path.exists(output_dir):\n",
    "#         os.makedirs(output_dir)\n",
    "\n",
    "#     for class_name in os.listdir(input_dir):\n",
    "#         class_path = os.path.join(input_dir, class_name)\n",
    "#         output_class_path = os.path.join(output_dir, class_name)\n",
    "#         if not os.path.exists(output_class_path):\n",
    "#             os.makedirs(output_class_path)\n",
    "\n",
    "#         if os.path.isdir(class_path):\n",
    "#             for img_name in os.listdir(class_path):\n",
    "#                 img_path = os.path.join(class_path, img_name)\n",
    "#                 try:\n",
    "#                     with Image.open(img_path) as img:\n",
    "#                         img_resized = img.resize(target_size)\n",
    "#                         img_resized.save(os.path.join(output_class_path, img_name))\n",
    "#                 except Exception as e:\n",
    "#                     print(f\"Error resizing image {img_path}: {e}\")"
   ]
  },
  {
   "cell_type": "code",
   "execution_count": null,
   "metadata": {
    "collapsed": true,
    "id": "BeWNGTR4ec6N",
    "jupyter": {
     "outputs_hidden": true
    }
   },
   "outputs": [],
   "source": [
    "# resized_dataset_path = '/content/drive/MyDrive/resized_dataset'"
   ]
  },
  {
   "cell_type": "code",
   "execution_count": null,
   "metadata": {
    "id": "XW1oKybK8gp7"
   },
   "outputs": [],
   "source": [
    "# resize_images(dataset_path, resized_dataset_path)"
   ]
  },
  {
   "cell_type": "code",
   "execution_count": null,
   "metadata": {
    "id": "UqIOae_zt47z"
   },
   "outputs": [],
   "source": [
    "# def split_dataset(input_dir, output_dir, train_ratio=0.7, val_ratio=0.15, test_ratio=0.15):\n",
    "#     if not os.path.exists(output_dir):\n",
    "#         os.makedirs(output_dir)\n",
    "\n",
    "#     for class_name in os.listdir(input_dir):\n",
    "#         class_path = os.path.join(input_dir, class_name)\n",
    "#         if os.path.isdir(class_path):\n",
    "#             images = os.listdir(class_path)\n",
    "#             train, temp = train_test_split(images, train_size=train_ratio, random_state=42)\n",
    "#             val, test = train_test_split(temp, test_size=test_ratio / (val_ratio + test_ratio), random_state=42)\n",
    "\n",
    "#             for split_name, split_data in zip(['train', 'val', 'test'], [train, val, test]):\n",
    "#                 split_path = os.path.join(output_dir, split_name, class_name)\n",
    "#                 if not os.path.exists(split_path):\n",
    "#                     os.makedirs(split_path)\n",
    "#                 for img_name in split_data:\n",
    "#                     shutil.copy(os.path.join(class_path, img_name), os.path.join(split_path, img_name))\n",
    "\n",
    "# split_dataset(resized_dataset_path, '/content/drive/MyDrive/split_dataset')"
   ]
  },
  {
   "cell_type": "code",
   "execution_count": 8,
   "metadata": {
    "executionInfo": {
     "elapsed": 517,
     "status": "ok",
     "timestamp": 1731759132511,
     "user": {
      "displayName": "I Gusti Made Wardita Winaya",
      "userId": "10298486317155517552"
     },
     "user_tz": -420
    },
    "id": "2AocSbBVu3y7"
   },
   "outputs": [],
   "source": [
    "train_datagen = keras.preprocessing.image.ImageDataGenerator(rescale=1.0/255)\n",
    "val_test_datagen = keras.preprocessing.image.ImageDataGenerator(rescale=1.0/255)"
   ]
  },
  {
   "cell_type": "code",
   "execution_count": 10,
   "metadata": {
    "colab": {
     "base_uri": "https://localhost:8080/"
    },
    "executionInfo": {
     "elapsed": 7640,
     "status": "ok",
     "timestamp": 1731759164345,
     "user": {
      "displayName": "I Gusti Made Wardita Winaya",
      "userId": "10298486317155517552"
     },
     "user_tz": -420
    },
    "id": "VACBPtrRvHh6",
    "outputId": "cef82142-9ad7-4865-f621-a5074e43898e"
   },
   "outputs": [
    {
     "name": "stdout",
     "output_type": "stream",
     "text": [
      "Found 4793 images belonging to 10 classes.\n",
      "Found 1027 images belonging to 10 classes.\n",
      "Found 1031 images belonging to 10 classes.\n"
     ]
    }
   ],
   "source": [
    "train_generator = train_datagen.flow_from_directory(\n",
    "    'C:/Users/Lenovo/capstone/split_dataset/train',\n",
    "    target_size=(224, 224),\n",
    "    batch_size=32,\n",
    "    class_mode='categorical'\n",
    ")\n",
    "\n",
    "validation_generator = val_test_datagen.flow_from_directory(\n",
    "    'C:/Users/Lenovo/capstone/split_dataset/val',\n",
    "    target_size=(224, 224),\n",
    "    batch_size=32,\n",
    "    class_mode='categorical'\n",
    ")\n",
    "\n",
    "test_generator = val_test_datagen.flow_from_directory(\n",
    "    'C:/Users/Lenovo/capstone/split_dataset/test',\n",
    "    target_size=(224, 224),\n",
    "    batch_size=32,\n",
    "    class_mode='categorical'\n",
    ")"
   ]
  },
  {
   "cell_type": "code",
   "execution_count": 12,
   "metadata": {},
   "outputs": [
    {
     "name": "stdout",
     "output_type": "stream",
     "text": [
      "Distribusi awal: Counter({9: 730, 7: 658, 4: 464, 1: 439, 0: 427, 8: 420, 6: 417, 2: 415, 5: 414, 3: 409})\n"
     ]
    }
   ],
   "source": [
    "from collections import Counter\n",
    "train_labels = train_generator.classes\n",
    "print(\"Distribusi awal:\", Counter(train_labels))"
   ]
  },
  {
   "cell_type": "code",
   "execution_count": 20,
   "metadata": {
    "executionInfo": {
     "elapsed": 341,
     "status": "ok",
     "timestamp": 1731759208036,
     "user": {
      "displayName": "I Gusti Made Wardita Winaya",
      "userId": "10298486317155517552"
     },
     "user_tz": -420
    },
    "id": "DjzUayYVcLmo"
   },
   "outputs": [],
   "source": [
    "# Definisi model dengan perbaikan\n",
    "model = tf.keras.models.Sequential([\n",
    "    tf.keras.Input(shape=(224, 224, 3)),\n",
    "\n",
    "    # Block 1\n",
    "    tf.keras.layers.Conv2D(16, (3, 3), activation='relu', padding='same'),\n",
    "    tf.keras.layers.BatchNormalization(),\n",
    "    tf.keras.layers.MaxPooling2D(2, 2),\n",
    "\n",
    "    # Block 2\n",
    "    tf.keras.layers.Conv2D(32, (3, 3), activation='relu', padding='same'),\n",
    "    tf.keras.layers.BatchNormalization(),\n",
    "    tf.keras.layers.MaxPooling2D(2, 2),\n",
    "\n",
    "    # Block 3\n",
    "    tf.keras.layers.Conv2D(64, (3, 3), activation='relu', padding='same'),\n",
    "    tf.keras.layers.BatchNormalization(),\n",
    "    tf.keras.layers.MaxPooling2D(2, 2),\n",
    "\n",
    "    # Block 4\n",
    "    tf.keras.layers.Conv2D(128, (3, 3), activation='relu', padding='same'),\n",
    "    tf.keras.layers.BatchNormalization(),\n",
    "    tf.keras.layers.MaxPooling2D(2, 2),\n",
    "\n",
    "    # Global Average Pooling\n",
    "    tf.keras.layers.GlobalAveragePooling2D(),\n",
    "\n",
    "    # Fully Connected Layer dengan Dropout\n",
    "    tf.keras.layers.Dense(128, activation='relu',\n",
    "                          kernel_regularizer=tf.keras.regularizers.l2(0.001)),\n",
    "    tf.keras.layers.Dropout(0.5),\n",
    "\n",
    "    # Output Layer\n",
    "    tf.keras.layers.Dense(10, activation='softmax')\n",
    "])\n",
    "\n",
    "# Compile model dengan optimizer dan callback\n",
    "model.compile(\n",
    "    optimizer=tf.keras.optimizers.Adam(learning_rate=0.00005),\n",
    "    loss='categorical_crossentropy',\n",
    "    metrics=['accuracy']\n",
    ")"
   ]
  },
  {
   "cell_type": "code",
   "execution_count": 22,
   "metadata": {
    "executionInfo": {
     "elapsed": 325,
     "status": "ok",
     "timestamp": 1731759213172,
     "user": {
      "displayName": "I Gusti Made Wardita Winaya",
      "userId": "10298486317155517552"
     },
     "user_tz": -420
    },
    "id": "UoD0RKfK4DoC"
   },
   "outputs": [],
   "source": [
    "# Inisialisasi callback EarlyStopping\n",
    "early_stopping = EarlyStopping(\n",
    "    monitor='val_loss',   # Metode pemantauan (contohnya val_loss atau val_accuracy)\n",
    "    patience=3,           # Jumlah epoch tanpa peningkatan sebelum menghentikan pelatihan\n",
    "    restore_best_weights=True  # Mengembalikan bobot terbaik setelah pelatihan selesai\n",
    ")"
   ]
  },
  {
   "cell_type": "code",
   "execution_count": 24,
   "metadata": {
    "colab": {
     "base_uri": "https://localhost:8080/"
    },
    "id": "tGtOC13__VCB",
    "outputId": "0c76fc28-fba9-4203-96fd-b437341f7314"
   },
   "outputs": [
    {
     "name": "stderr",
     "output_type": "stream",
     "text": [
      "D:\\Anaconda\\Lib\\site-packages\\keras\\src\\trainers\\data_adapters\\py_dataset_adapter.py:121: UserWarning: Your `PyDataset` class should call `super().__init__(**kwargs)` in its constructor. `**kwargs` can include `workers`, `use_multiprocessing`, `max_queue_size`. Do not pass these arguments to `fit()`, as they will be ignored.\n",
      "  self._warn_if_super_not_called()\n"
     ]
    },
    {
     "name": "stdout",
     "output_type": "stream",
     "text": [
      "Epoch 1/20\n",
      "\u001b[1m150/150\u001b[0m \u001b[32m━━━━━━━━━━━━━━━━━━━━\u001b[0m\u001b[37m\u001b[0m \u001b[1m83s\u001b[0m 513ms/step - accuracy: 0.1852 - loss: 2.4507 - val_accuracy: 0.0886 - val_loss: 2.5586\n",
      "Epoch 2/20\n",
      "\u001b[1m150/150\u001b[0m \u001b[32m━━━━━━━━━━━━━━━━━━━━\u001b[0m\u001b[37m\u001b[0m \u001b[1m52s\u001b[0m 346ms/step - accuracy: 0.4626 - loss: 1.7206 - val_accuracy: 0.1003 - val_loss: 2.5631\n",
      "Epoch 3/20\n",
      "\u001b[1m150/150\u001b[0m \u001b[32m━━━━━━━━━━━━━━━━━━━━\u001b[0m\u001b[37m\u001b[0m \u001b[1m48s\u001b[0m 320ms/step - accuracy: 0.5665 - loss: 1.4877 - val_accuracy: 0.3262 - val_loss: 2.0702\n",
      "Epoch 4/20\n",
      "\u001b[1m150/150\u001b[0m \u001b[32m━━━━━━━━━━━━━━━━━━━━\u001b[0m\u001b[37m\u001b[0m \u001b[1m48s\u001b[0m 318ms/step - accuracy: 0.6356 - loss: 1.2859 - val_accuracy: 0.6680 - val_loss: 1.3075\n",
      "Epoch 5/20\n",
      "\u001b[1m150/150\u001b[0m \u001b[32m━━━━━━━━━━━━━━━━━━━━\u001b[0m\u001b[37m\u001b[0m \u001b[1m48s\u001b[0m 317ms/step - accuracy: 0.7000 - loss: 1.1492 - val_accuracy: 0.7770 - val_loss: 1.0070\n",
      "Epoch 6/20\n",
      "\u001b[1m150/150\u001b[0m \u001b[32m━━━━━━━━━━━━━━━━━━━━\u001b[0m\u001b[37m\u001b[0m \u001b[1m46s\u001b[0m 309ms/step - accuracy: 0.7122 - loss: 1.0869 - val_accuracy: 0.8140 - val_loss: 0.8711\n",
      "Epoch 7/20\n",
      "\u001b[1m150/150\u001b[0m \u001b[32m━━━━━━━━━━━━━━━━━━━━\u001b[0m\u001b[37m\u001b[0m \u001b[1m62s\u001b[0m 416ms/step - accuracy: 0.7371 - loss: 1.0014 - val_accuracy: 0.8023 - val_loss: 0.8054\n",
      "Epoch 8/20\n",
      "\u001b[1m150/150\u001b[0m \u001b[32m━━━━━━━━━━━━━━━━━━━━\u001b[0m\u001b[37m\u001b[0m \u001b[1m58s\u001b[0m 385ms/step - accuracy: 0.7649 - loss: 0.9206 - val_accuracy: 0.8569 - val_loss: 0.7227\n",
      "Epoch 9/20\n",
      "\u001b[1m150/150\u001b[0m \u001b[32m━━━━━━━━━━━━━━━━━━━━\u001b[0m\u001b[37m\u001b[0m \u001b[1m46s\u001b[0m 307ms/step - accuracy: 0.7803 - loss: 0.8780 - val_accuracy: 0.8578 - val_loss: 0.6673\n",
      "Epoch 10/20\n",
      "\u001b[1m150/150\u001b[0m \u001b[32m━━━━━━━━━━━━━━━━━━━━\u001b[0m\u001b[37m\u001b[0m \u001b[1m46s\u001b[0m 304ms/step - accuracy: 0.7967 - loss: 0.8134 - val_accuracy: 0.8705 - val_loss: 0.6569\n",
      "Epoch 11/20\n",
      "\u001b[1m150/150\u001b[0m \u001b[32m━━━━━━━━━━━━━━━━━━━━\u001b[0m\u001b[37m\u001b[0m \u001b[1m45s\u001b[0m 301ms/step - accuracy: 0.8249 - loss: 0.7462 - val_accuracy: 0.8968 - val_loss: 0.5889\n",
      "Epoch 12/20\n",
      "\u001b[1m150/150\u001b[0m \u001b[32m━━━━━━━━━━━━━━━━━━━━\u001b[0m\u001b[37m\u001b[0m \u001b[1m45s\u001b[0m 303ms/step - accuracy: 0.8259 - loss: 0.7191 - val_accuracy: 0.9046 - val_loss: 0.5499\n",
      "Epoch 13/20\n",
      "\u001b[1m150/150\u001b[0m \u001b[32m━━━━━━━━━━━━━━━━━━━━\u001b[0m\u001b[37m\u001b[0m \u001b[1m46s\u001b[0m 303ms/step - accuracy: 0.8362 - loss: 0.6974 - val_accuracy: 0.9143 - val_loss: 0.5118\n",
      "Epoch 14/20\n",
      "\u001b[1m150/150\u001b[0m \u001b[32m━━━━━━━━━━━━━━━━━━━━\u001b[0m\u001b[37m\u001b[0m \u001b[1m45s\u001b[0m 303ms/step - accuracy: 0.8549 - loss: 0.6582 - val_accuracy: 0.9065 - val_loss: 0.4973\n",
      "Epoch 15/20\n",
      "\u001b[1m150/150\u001b[0m \u001b[32m━━━━━━━━━━━━━━━━━━━━\u001b[0m\u001b[37m\u001b[0m \u001b[1m45s\u001b[0m 303ms/step - accuracy: 0.8644 - loss: 0.5949 - val_accuracy: 0.9017 - val_loss: 0.5051\n",
      "Epoch 16/20\n",
      "\u001b[1m150/150\u001b[0m \u001b[32m━━━━━━━━━━━━━━━━━━━━\u001b[0m\u001b[37m\u001b[0m \u001b[1m46s\u001b[0m 305ms/step - accuracy: 0.8760 - loss: 0.5875 - val_accuracy: 0.9241 - val_loss: 0.4472\n",
      "Epoch 17/20\n",
      "\u001b[1m150/150\u001b[0m \u001b[32m━━━━━━━━━━━━━━━━━━━━\u001b[0m\u001b[37m\u001b[0m \u001b[1m46s\u001b[0m 305ms/step - accuracy: 0.8812 - loss: 0.5610 - val_accuracy: 0.9202 - val_loss: 0.4480\n",
      "Epoch 18/20\n",
      "\u001b[1m150/150\u001b[0m \u001b[32m━━━━━━━━━━━━━━━━━━━━\u001b[0m\u001b[37m\u001b[0m \u001b[1m46s\u001b[0m 306ms/step - accuracy: 0.9007 - loss: 0.5279 - val_accuracy: 0.9367 - val_loss: 0.4129\n",
      "Epoch 19/20\n",
      "\u001b[1m150/150\u001b[0m \u001b[32m━━━━━━━━━━━━━━━━━━━━\u001b[0m\u001b[37m\u001b[0m \u001b[1m46s\u001b[0m 304ms/step - accuracy: 0.8832 - loss: 0.5440 - val_accuracy: 0.9289 - val_loss: 0.4000\n",
      "Epoch 20/20\n",
      "\u001b[1m150/150\u001b[0m \u001b[32m━━━━━━━━━━━━━━━━━━━━\u001b[0m\u001b[37m\u001b[0m \u001b[1m46s\u001b[0m 305ms/step - accuracy: 0.8958 - loss: 0.5016 - val_accuracy: 0.9445 - val_loss: 0.3737\n"
     ]
    }
   ],
   "source": [
    "history = model.fit(\n",
    "    train_generator,\n",
    "    epochs=20,\n",
    "    validation_data=validation_generator,\n",
    "    callbacks=[early_stopping]\n",
    ")"
   ]
  },
  {
   "cell_type": "code",
   "execution_count": 26,
   "metadata": {},
   "outputs": [
    {
     "data": {
      "image/png": "[encoded data removed]",
      "text/plain": [
       "<Figure size 1000x500 with 2 Axes>"
      ]
     },
     "metadata": {},
     "output_type": "display_data"
    }
   ],
   "source": [
    "acc = history.history['accuracy']\n",
    "val_acc = history.history['val_accuracy']\n",
    "loss = history.history['loss']\n",
    "val_loss = history.history['val_loss']\n",
    "\n",
    "# Get number of epochs\n",
    "epochs = range(len(acc))\n",
    "\n",
    "fig, ax = plt.subplots(1, 2, figsize=(10, 5))\n",
    "fig.suptitle('Training and validation accuracy')\n",
    "\n",
    "for i, (data, label) in enumerate(zip([(acc, val_acc), (loss, val_loss)], [\"Accuracy\", \"Loss\"])):\n",
    "    ax[i].plot(epochs, data[0], 'r', label=\"Training \" + label)\n",
    "    ax[i].plot(epochs, data[1], 'b', label=\"Validation \" + label)\n",
    "    ax[i].legend()\n",
    "    ax[i].set_xlabel('epochs')\n",
    "\n",
    "plt.show()"
   ]
  },
  {
   "cell_type": "code",
   "execution_count": 28,
   "metadata": {},
   "outputs": [],
   "source": [
    "import keras"
   ]
  },
  {
   "cell_type": "code",
   "execution_count": 30,
   "metadata": {
    "id": "WpmRCCedxAHW"
   },
   "outputs": [],
   "source": [
    "model.save('C:/Users/Lenovo/capstone/ArteFacto_model.keras')"
   ]
  },
  {
   "cell_type": "code",
   "execution_count": 32,
   "metadata": {},
   "outputs": [],
   "source": [
    "# Load the model\n",
    "model = tf.keras.models.load_model(\"C:/Users/Lenovo/capstone/ArteFacto_model.keras\")\n",
    "\n",
    "# Re-compile the model\n",
    "model.compile(\n",
    "    optimizer='adam',\n",
    "    loss='categorical_crossentropy',\n",
    "    metrics=['accuracy']\n",
    ")\n",
    "\n",
    "# Save the model again\n",
    "model.save(\"C:/Users/Lenovo/capstone/ArteFacto_model_compiled.keras\")"
   ]
  },
  {
   "cell_type": "code",
   "execution_count": null,
   "metadata": {},
   "outputs": [],
   "source": []
  }
 ],
 "metadata": {
  "colab": {
   "provenance": []
  },
  "kernelspec": {
   "display_name": "Python 3 (ipykernel)",
   "language": "python",
   "name": "python3"
  },
  "language_info": {
   "codemirror_mode": {
    "name": "ipython",
    "version": 3
   },
   "file_extension": ".py",
   "mimetype": "text/x-python",
   "name": "python",
   "nbconvert_exporter": "python",
   "pygments_lexer": "ipython3",
   "version": "3.12.3"
  }
 },
 "nbformat": 4,
 "nbformat_minor": 4
}
