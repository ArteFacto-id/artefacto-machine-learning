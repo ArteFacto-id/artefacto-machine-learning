{
  "cells": [
    {
      "cell_type": "code",
      "execution_count": null,
      "metadata": {
        "id": "XrY_-NPYai8i"
      },
      "outputs": [],
      "source": [
        "import os\n",
        "import cv2\n",
        "import shutil\n",
        "import random\n",
        "import numpy as np\n",
        "import matplotlib.pyplot as plt\n",
        "import tensorflow as tf\n",
        "from tensorflow import keras\n",
        "from tensorflow.keras import layers\n",
        "from tensorflow.keras.callbacks import EarlyStopping\n",
        "from sklearn.model_selection import train_test_split\n",
        "from skimage.util import random_noise\n",
        "from PIL import Image\n",
        "from albumentations import Compose, HorizontalFlip, Rotate, GaussianBlur, RandomBrightnessContrast, GaussNoise\n",
        "from albumentations.core.composition import OneOf"
      ]
    },
    {
      "cell_type": "code",
      "execution_count": null,
      "metadata": {
        "id": "Xsgr9u0uayPj"
      },
      "outputs": [],
      "source": [
        "folder_path = 'C:/Users/Lenovo/capstone/split_dataset'\n",
        "files = os.listdir(folder_path)"
      ]
    },
    {
      "cell_type": "code",
      "execution_count": null,
      "metadata": {
        "id": "8a1rhL6pgI1E"
      },
      "outputs": [],
      "source": [
        "# import tensorflow as tf\n",
        "# tf.test.gpu_device_name()"
      ]
    },
    {
      "cell_type": "code",
      "execution_count": null,
      "metadata": {
        "id": "kGqe_wfSq9MF"
      },
      "outputs": [],
      "source": [
        "# print(\"Num GPUs Available: \", len(tf.config.list_physical_devices('GPU')))"
      ]
    },
    {
      "cell_type": "code",
      "execution_count": null,
      "metadata": {
        "id": "7C6h_v_6d8HJ"
      },
      "outputs": [],
      "source": [
        "dataset_path = '/content/drive/MyDrive/dataset'"
      ]
    },
    {
      "cell_type": "code",
      "execution_count": null,
      "metadata": {
        "id": "iBetelZZM50n"
      },
      "outputs": [],
      "source": [
        "def apply_motion_blur(image, kernel_size=5):\n",
        "    kernel = np.zeros((kernel_size, kernel_size))\n",
        "    kernel[int((kernel_size - 1) / 2), :] = np.ones(kernel_size)\n",
        "    kernel = kernel / kernel_size\n",
        "    return cv2.filter2D(image, -1, kernel)\n",
        "\n",
        "def add_gaussian_noise(image):\n",
        "    mean = 0\n",
        "    variance = 0.001\n",
        "    stddev = np.sqrt(variance)\n",
        "\n",
        "    # Menghasilkan Gaussian noise\n",
        "    gaussian_noise = np.random.normal(mean, stddev, image.shape).astype(np.float32)\n",
        "\n",
        "    # Menambahkan noise pada gambar asli\n",
        "    noisy_image = image.astype(np.float32) / 255.0 + gaussian_noise\n",
        "    noisy_image = np.clip(noisy_image, 0, 1.0)  # Rentang nilai 0-1\n",
        "    noisy_image = (noisy_image * 255).astype(np.uint8)  # Konversi ke rentang 0-255 dan tipe uint8\n",
        "\n",
        "    return noisy_image\n"
      ]
    },
    {
      "cell_type": "code",
      "execution_count": null,
      "metadata": {
        "id": "AL6CMbuv6Kw3"
      },
      "outputs": [],
      "source": [
        "def augment_images(input_dir, min_images=600, target_size=(224, 224)):\n",
        "    datagen = keras.preprocessing.image.ImageDataGenerator(\n",
        "        rotation_range=10,\n",
        "        width_shift_range=0.2,\n",
        "        height_shift_range=0.2,\n",
        "        shear_range=0.2,\n",
        "        zoom_range=0.2,\n",
        "        horizontal_flip=True,\n",
        "        fill_mode='nearest'\n",
        "    )\n",
        "\n",
        "    for class_name in os.listdir(input_dir):\n",
        "        class_path = os.path.join(input_dir, class_name)\n",
        "        if os.path.isdir(class_path):\n",
        "            images = os.listdir(class_path)\n",
        "            num_images = len(images)\n",
        "            if num_images < min_images:\n",
        "                num_to_generate = min_images - num_images\n",
        "                print(f\"Augmenting {num_to_generate} images for class {class_name}\")\n",
        "\n",
        "                for i in range(num_to_generate):\n",
        "                    img_name = images[i % num_images]\n",
        "                    img_path = os.path.join(class_path, img_name)\n",
        "                    try:\n",
        "                        img = cv2.imread(img_path)\n",
        "                        if img is None:\n",
        "                            print(f\"Failed to load image: {img_path}\")\n",
        "                            continue\n",
        "\n",
        "                        img = cv2.resize(img, target_size)\n",
        "\n",
        "                        # Efek augmentasi tambahan secara acak\n",
        "                        if random.choice([True, False]):\n",
        "                            img = apply_motion_blur(img)\n",
        "                        if random.choice([True, False]):\n",
        "                            img = add_gaussian_noise(img)\n",
        "\n",
        "                        x = keras.preprocessing.image.img_to_array(img)\n",
        "                        x = x.reshape((1,) + x.shape)\n",
        "\n",
        "                        for batch in datagen.flow(x, batch_size=1, save_to_dir=class_path, save_prefix='aug', save_format='jpg'):\n",
        "                            break\n",
        "                    except Exception as e:\n",
        "                        print(f\"Error augmenting image {img_path}: {e}\")\n",
        "\n"
      ]
    },
    {
      "cell_type": "code",
      "execution_count": null,
      "metadata": {
        "colab": {
          "base_uri": "https://localhost:8080/"
        },
        "id": "j2XqXhb86iWb",
        "outputId": "1356b953-8b5f-4179-a1a8-fdb7e5fc1488"
      },
      "outputs": [
        {
          "name": "stdout",
          "output_type": "stream",
          "text": [
            "Augmenting 315 images for class durga\n",
            "Augmenting 450 images for class gupolo\n",
            "Augmenting 244 images for class nandhi\n",
            "Augmenting 196 images for class surya\n",
            "Augmenting 191 images for class candra\n"
          ]
        }
      ],
      "source": [
        "augment_images(dataset_path)"
      ]
    },
    {
      "cell_type": "code",
      "execution_count": null,
      "metadata": {
        "id": "-ckJiIyZeZYC"
      },
      "outputs": [],
      "source": [
        "def resize_images(input_dir, output_dir, target_size=(224, 224)):\n",
        "    if not os.path.exists(output_dir):\n",
        "        os.makedirs(output_dir)\n",
        "\n",
        "    for class_name in os.listdir(input_dir):\n",
        "        class_path = os.path.join(input_dir, class_name)\n",
        "        output_class_path = os.path.join(output_dir, class_name)\n",
        "        if not os.path.exists(output_class_path):\n",
        "            os.makedirs(output_class_path)\n",
        "\n",
        "        if os.path.isdir(class_path):\n",
        "            for img_name in os.listdir(class_path):\n",
        "                img_path = os.path.join(class_path, img_name)\n",
        "                try:\n",
        "                    with Image.open(img_path) as img:\n",
        "                        img_resized = img.resize(target_size)\n",
        "                        img_resized.save(os.path.join(output_class_path, img_name))\n",
        "                except Exception as e:\n",
        "                    print(f\"Error resizing image {img_path}: {e}\")"
      ]
    },
    {
      "cell_type": "code",
      "execution_count": null,
      "metadata": {
        "collapsed": true,
        "id": "BeWNGTR4ec6N",
        "jupyter": {
          "outputs_hidden": true
        }
      },
      "outputs": [],
      "source": [
        "resized_dataset_path = '/content/drive/MyDrive/resized_dataset'"
      ]
    },
    {
      "cell_type": "code",
      "execution_count": null,
      "metadata": {
        "id": "XW1oKybK8gp7"
      },
      "outputs": [],
      "source": [
        "resize_images(dataset_path, resized_dataset_path)"
      ]
    },
    {
      "cell_type": "code",
      "execution_count": null,
      "metadata": {
        "id": "UqIOae_zt47z"
      },
      "outputs": [],
      "source": [
        "def split_dataset(input_dir, output_dir, train_ratio=0.7, val_ratio=0.15, test_ratio=0.15):\n",
        "    if not os.path.exists(output_dir):\n",
        "        os.makedirs(output_dir)\n",
        "\n",
        "    for class_name in os.listdir(input_dir):\n",
        "        class_path = os.path.join(input_dir, class_name)\n",
        "        if os.path.isdir(class_path):\n",
        "            images = os.listdir(class_path)\n",
        "            train, temp = train_test_split(images, train_size=train_ratio, random_state=42)\n",
        "            val, test = train_test_split(temp, test_size=test_ratio / (val_ratio + test_ratio), random_state=42)\n",
        "\n",
        "            for split_name, split_data in zip(['train', 'val', 'test'], [train, val, test]):\n",
        "                split_path = os.path.join(output_dir, split_name, class_name)\n",
        "                if not os.path.exists(split_path):\n",
        "                    os.makedirs(split_path)\n",
        "                for img_name in split_data:\n",
        "                    shutil.copy(os.path.join(class_path, img_name), os.path.join(split_path, img_name))\n",
        "\n",
        "split_dataset(resized_dataset_path, '/content/drive/MyDrive/split_dataset')"
      ]
    },
    {
      "cell_type": "code",
      "execution_count": null,
      "metadata": {
        "id": "2AocSbBVu3y7"
      },
      "outputs": [],
      "source": [
        "train_datagen = keras.preprocessing.image.ImageDataGenerator(rescale=1.0/255)\n",
        "val_test_datagen = keras.preprocessing.image.ImageDataGenerator(rescale=1.0/255)"
      ]
    },
    {
      "cell_type": "code",
      "execution_count": null,
      "metadata": {
        "colab": {
          "base_uri": "https://localhost:8080/"
        },
        "id": "VACBPtrRvHh6",
        "outputId": "cef82142-9ad7-4865-f621-a5074e43898e"
      },
      "outputs": [
        {
          "name": "stdout",
          "output_type": "stream",
          "text": [
            "Found 5206 images belonging to 10 classes.\n",
            "Found 1118 images belonging to 10 classes.\n",
            "Found 1120 images belonging to 10 classes.\n"
          ]
        }
      ],
      "source": [
        "train_generator = train_datagen.flow_from_directory(\n",
        "    'C:/Users/Lenovo/capstone/split_dataset/train',\n",
        "    target_size=(224, 224),\n",
        "    batch_size=32,\n",
        "    class_mode='categorical'\n",
        ")\n",
        "\n",
        "validation_generator = val_test_datagen.flow_from_directory(\n",
        "    'C:/Users/Lenovo/capstone/split_dataset/val',\n",
        "    target_size=(224, 224),\n",
        "    batch_size=32,\n",
        "    class_mode='categorical'\n",
        ")\n",
        "\n",
        "test_generator = val_test_datagen.flow_from_directory(\n",
        "    'C:/Users/Lenovo/capstone/split_dataset/test',\n",
        "    target_size=(224, 224),\n",
        "    batch_size=32,\n",
        "    class_mode='categorical'\n",
        ")"
      ]
    },
    {
      "cell_type": "code",
      "execution_count": null,
      "metadata": {
        "id": "z9qbJ-66sA1K",
        "outputId": "27215b63-f348-4fd5-9289-a592d0dc120b"
      },
      "outputs": [
        {
          "name": "stdout",
          "output_type": "stream",
          "text": [
            "Distribusi awal: Counter({9: 1123, 7: 660, 4: 465, 1: 439, 0: 432, 8: 420, 2: 419, 3: 417, 6: 417, 5: 414})\n"
          ]
        }
      ],
      "source": [
        "from collections import Counter\n",
        "train_labels = train_generator.classes\n",
        "print(\"Distribusi awal:\", Counter(train_labels))"
      ]
    },
    {
      "cell_type": "code",
      "execution_count": null,
      "metadata": {
        "id": "DjzUayYVcLmo"
      },
      "outputs": [],
      "source": [
        "# Definisi model dengan perbaikan\n",
        "model = tf.keras.models.Sequential([\n",
        "    tf.keras.Input(shape=(224, 224, 3)),\n",
        "\n",
        "    # Block 1\n",
        "    tf.keras.layers.Conv2D(16, (3, 3), activation='relu', padding='same'),\n",
        "    tf.keras.layers.BatchNormalization(),\n",
        "    tf.keras.layers.MaxPooling2D(2, 2),\n",
        "\n",
        "    # Block 2\n",
        "    tf.keras.layers.Conv2D(32, (3, 3), activation='relu', padding='same'),\n",
        "    tf.keras.layers.BatchNormalization(),\n",
        "    tf.keras.layers.MaxPooling2D(2, 2),\n",
        "\n",
        "    # Block 3\n",
        "    tf.keras.layers.Conv2D(64, (3, 3), activation='relu', padding='same'),\n",
        "    tf.keras.layers.BatchNormalization(),\n",
        "    tf.keras.layers.MaxPooling2D(2, 2),\n",
        "\n",
        "    # Block 4\n",
        "    tf.keras.layers.Conv2D(128, (3, 3), activation='relu', padding='same'),\n",
        "    tf.keras.layers.BatchNormalization(),\n",
        "    tf.keras.layers.MaxPooling2D(2, 2),\n",
        "\n",
        "    # Global Average Pooling\n",
        "    tf.keras.layers.GlobalAveragePooling2D(),\n",
        "\n",
        "    # Fully Connected Layer dengan Dropout\n",
        "    tf.keras.layers.Dense(128, activation='relu',\n",
        "                          kernel_regularizer=tf.keras.regularizers.l2(0.001)),\n",
        "    tf.keras.layers.Dropout(0.5),\n",
        "\n",
        "    # Output Layer\n",
        "    tf.keras.layers.Dense(10, activation='softmax')\n",
        "])\n",
        "\n",
        "# Compile model dengan optimizer dan callback\n",
        "model.compile(\n",
        "    optimizer=tf.keras.optimizers.Adam(learning_rate=0.00005),\n",
        "    loss='categorical_crossentropy',\n",
        "    metrics=['accuracy']\n",
        ")"
      ]
    },
    {
      "cell_type": "code",
      "execution_count": null,
      "metadata": {
        "id": "UoD0RKfK4DoC"
      },
      "outputs": [],
      "source": [
        "# Inisialisasi callback EarlyStopping\n",
        "early_stopping = EarlyStopping(\n",
        "    monitor='val_loss',   # Metode pemantauan (contohnya val_loss atau val_accuracy)\n",
        "    patience=3,           # Jumlah epoch tanpa peningkatan sebelum menghentikan pelatihan\n",
        "    restore_best_weights=True  # Mengembalikan bobot terbaik setelah pelatihan selesai\n",
        ")"
      ]
    },
    {
      "cell_type": "code",
      "execution_count": null,
      "metadata": {
        "colab": {
          "base_uri": "https://localhost:8080/"
        },
        "id": "tGtOC13__VCB",
        "outputId": "0c76fc28-fba9-4203-96fd-b437341f7314"
      },
      "outputs": [
        {
          "name": "stdout",
          "output_type": "stream",
          "text": [
            "Epoch 1/20\n",
            "\u001b[1m163/163\u001b[0m \u001b[32m━━━━━━━━━━━━━━━━━━━━\u001b[0m\u001b[37m\u001b[0m \u001b[1m56s\u001b[0m 316ms/step - accuracy: 0.1911 - loss: 2.3897 - val_accuracy: 0.1145 - val_loss: 2.5144\n",
            "Epoch 2/20\n",
            "\u001b[1m163/163\u001b[0m \u001b[32m━━━━━━━━━━━━━━━━━━━━\u001b[0m\u001b[37m\u001b[0m \u001b[1m51s\u001b[0m 315ms/step - accuracy: 0.4583 - loss: 1.7197 - val_accuracy: 0.1619 - val_loss: 2.3210\n",
            "Epoch 3/20\n",
            "\u001b[1m163/163\u001b[0m \u001b[32m━━━━━━━━━━━━━━━━━━━━\u001b[0m\u001b[37m\u001b[0m \u001b[1m51s\u001b[0m 315ms/step - accuracy: 0.5485 - loss: 1.4756 - val_accuracy: 0.4875 - val_loss: 1.7275\n",
            "Epoch 4/20\n",
            "\u001b[1m163/163\u001b[0m \u001b[32m━━━━━━━━━━━━━━━━━━━━\u001b[0m\u001b[37m\u001b[0m \u001b[1m52s\u001b[0m 319ms/step - accuracy: 0.6512 - loss: 1.2638 - val_accuracy: 0.7326 - val_loss: 1.2015\n",
            "Epoch 5/20\n",
            "\u001b[1m163/163\u001b[0m \u001b[32m━━━━━━━━━━━━━━━━━━━━\u001b[0m\u001b[37m\u001b[0m \u001b[1m52s\u001b[0m 320ms/step - accuracy: 0.6974 - loss: 1.1273 - val_accuracy: 0.7800 - val_loss: 1.0102\n",
            "Epoch 6/20\n",
            "\u001b[1m163/163\u001b[0m \u001b[32m━━━━━━━━━━━━━━━━━━━━\u001b[0m\u001b[37m\u001b[0m \u001b[1m51s\u001b[0m 314ms/step - accuracy: 0.7183 - loss: 1.0556 - val_accuracy: 0.8086 - val_loss: 0.9039\n",
            "Epoch 7/20\n",
            "\u001b[1m163/163\u001b[0m \u001b[32m━━━━━━━━━━━━━━━━━━━━\u001b[0m\u001b[37m\u001b[0m \u001b[1m51s\u001b[0m 313ms/step - accuracy: 0.7496 - loss: 0.9716 - val_accuracy: 0.8372 - val_loss: 0.7901\n",
            "Epoch 8/20\n",
            "\u001b[1m163/163\u001b[0m \u001b[32m━━━━━━━━━━━━━━━━━━━━\u001b[0m\u001b[37m\u001b[0m \u001b[1m51s\u001b[0m 316ms/step - accuracy: 0.7805 - loss: 0.8798 - val_accuracy: 0.8631 - val_loss: 0.7401\n",
            "Epoch 9/20\n",
            "\u001b[1m163/163\u001b[0m \u001b[32m━━━━━━━━━━━━━━━━━━━━\u001b[0m\u001b[37m\u001b[0m \u001b[1m52s\u001b[0m 317ms/step - accuracy: 0.7928 - loss: 0.8379 - val_accuracy: 0.8551 - val_loss: 0.7099\n",
            "Epoch 10/20\n",
            "\u001b[1m163/163\u001b[0m \u001b[32m━━━━━━━━━━━━━━━━━━━━\u001b[0m\u001b[37m\u001b[0m \u001b[1m52s\u001b[0m 318ms/step - accuracy: 0.8071 - loss: 0.7993 - val_accuracy: 0.8810 - val_loss: 0.6478\n",
            "Epoch 11/20\n",
            "\u001b[1m163/163\u001b[0m \u001b[32m━━━━━━━━━━━━━━━━━━━━\u001b[0m\u001b[37m\u001b[0m \u001b[1m51s\u001b[0m 314ms/step - accuracy: 0.8144 - loss: 0.7537 - val_accuracy: 0.8819 - val_loss: 0.6152\n",
            "Epoch 12/20\n",
            "\u001b[1m163/163\u001b[0m \u001b[32m━━━━━━━━━━━━━━━━━━━━\u001b[0m\u001b[37m\u001b[0m \u001b[1m51s\u001b[0m 314ms/step - accuracy: 0.8347 - loss: 0.6978 - val_accuracy: 0.8703 - val_loss: 0.5804\n",
            "Epoch 13/20\n",
            "\u001b[1m163/163\u001b[0m \u001b[32m━━━━━━━━━━━━━━━━━━━━\u001b[0m\u001b[37m\u001b[0m \u001b[1m51s\u001b[0m 315ms/step - accuracy: 0.8488 - loss: 0.6739 - val_accuracy: 0.9034 - val_loss: 0.5298\n",
            "Epoch 14/20\n",
            "\u001b[1m163/163\u001b[0m \u001b[32m━━━━━━━━━━━━━━━━━━━━\u001b[0m\u001b[37m\u001b[0m \u001b[1m51s\u001b[0m 315ms/step - accuracy: 0.8535 - loss: 0.6414 - val_accuracy: 0.9249 - val_loss: 0.4919\n",
            "Epoch 15/20\n",
            "\u001b[1m163/163\u001b[0m \u001b[32m━━━━━━━━━━━━━━━━━━━━\u001b[0m\u001b[37m\u001b[0m \u001b[1m51s\u001b[0m 313ms/step - accuracy: 0.8596 - loss: 0.6121 - val_accuracy: 0.9195 - val_loss: 0.4791\n",
            "Epoch 16/20\n",
            "\u001b[1m163/163\u001b[0m \u001b[32m━━━━━━━━━━━━━━━━━━━━\u001b[0m\u001b[37m\u001b[0m \u001b[1m51s\u001b[0m 314ms/step - accuracy: 0.8650 - loss: 0.5847 - val_accuracy: 0.9213 - val_loss: 0.4669\n",
            "Epoch 17/20\n",
            "\u001b[1m163/163\u001b[0m \u001b[32m━━━━━━━━━━━━━━━━━━━━\u001b[0m\u001b[37m\u001b[0m \u001b[1m51s\u001b[0m 314ms/step - accuracy: 0.8781 - loss: 0.5658 - val_accuracy: 0.9168 - val_loss: 0.4711\n",
            "Epoch 18/20\n",
            "\u001b[1m163/163\u001b[0m \u001b[32m━━━━━━━━━━━━━━━━━━━━\u001b[0m\u001b[37m\u001b[0m \u001b[1m51s\u001b[0m 314ms/step - accuracy: 0.8840 - loss: 0.5465 - val_accuracy: 0.9213 - val_loss: 0.4417\n",
            "Epoch 19/20\n",
            "\u001b[1m163/163\u001b[0m \u001b[32m━━━━━━━━━━━━━━━━━━━━\u001b[0m\u001b[37m\u001b[0m \u001b[1m51s\u001b[0m 313ms/step - accuracy: 0.8931 - loss: 0.5195 - val_accuracy: 0.9302 - val_loss: 0.4085\n",
            "Epoch 20/20\n",
            "\u001b[1m163/163\u001b[0m \u001b[32m━━━━━━━━━━━━━━━━━━━━\u001b[0m\u001b[37m\u001b[0m \u001b[1m51s\u001b[0m 313ms/step - accuracy: 0.8992 - loss: 0.4969 - val_accuracy: 0.9410 - val_loss: 0.3792\n"
          ]
        }
      ],
      "source": [
        "history = model.fit(\n",
        "    train_generator,\n",
        "    epochs=20,\n",
        "    validation_data=validation_generator,\n",
        "    callbacks=[early_stopping]\n",
        ")"
      ]
    },
    {
      "cell_type": "code",
      "execution_count": null,
      "metadata": {
        "id": "18cbBNtisA1K",
        "outputId": "31d544d4-9c1f-4368-e083-34da2379b310"
      },
      "outputs": [
        {
          "data": {
            "image/png": "[encoded data removed]",
            "text/plain": [
              "<Figure size 1000x500 with 2 Axes>"
            ]
          },
          "metadata": {},
          "output_type": "display_data"
        }
      ],
      "source": [
        "acc = history.history['accuracy']\n",
        "val_acc = history.history['val_accuracy']\n",
        "loss = history.history['loss']\n",
        "val_loss = history.history['val_loss']\n",
        "\n",
        "# Get number of epochs\n",
        "epochs = range(len(acc))\n",
        "\n",
        "fig, ax = plt.subplots(1, 2, figsize=(10, 5))\n",
        "fig.suptitle('Training and validation accuracy')\n",
        "\n",
        "for i, (data, label) in enumerate(zip([(acc, val_acc), (loss, val_loss)], [\"Accuracy\", \"Loss\"])):\n",
        "    ax[i].plot(epochs, data[0], 'r', label=\"Training \" + label)\n",
        "    ax[i].plot(epochs, data[1], 'b', label=\"Validation \" + label)\n",
        "    ax[i].legend()\n",
        "    ax[i].set_xlabel('epochs')\n",
        "\n",
        "plt.show()"
      ]
    }
  ],
  "metadata": {
    "colab": {
      "provenance": []
    },
    "kernelspec": {
      "display_name": "Python 3 (ipykernel)",
      "language": "python",
      "name": "python3"
    },
    "language_info": {
      "codemirror_mode": {
        "name": "ipython",
        "version": 3
      },
      "file_extension": ".py",
      "mimetype": "text/x-python",
      "name": "python",
      "nbconvert_exporter": "python",
      "pygments_lexer": "ipython3",
      "version": "3.12.3"
    }
  },
  "nbformat": 4,
  "nbformat_minor": 0
}